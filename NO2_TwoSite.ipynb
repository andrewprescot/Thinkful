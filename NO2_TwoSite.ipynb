{
 "cells": [
  {
   "cell_type": "code",
   "execution_count": null,
   "metadata": {},
   "outputs": [],
   "source": [
    "# Setup Environment\n",
    "import pandas as pd\n",
    "import seaborn as sns\n",
    "from scipy import stats\n",
    "import matplotlib.pyplot as plt\n",
    "\n",
    "sns.set_style('darkgrid')\n",
    "sns.set_context('talk')"
   ]
  },
  {
   "cell_type": "code",
   "execution_count": null,
   "metadata": {
    "code_folding": []
   },
   "outputs": [],
   "source": [
    "# Read-in data\n",
    "df = pd.read_csv('https://raw.githubusercontent.com/aprescot1977/Thinkful/master/no2_master.csv')\n",
    "df.rename(columns={'Daily Max 1-hour NO2 Concentration':'Daily Max 1-hr [NO2] in ppb'}, inplace=True)\n",
    "pollutant_no2 = 'Daily Max 1-hr [NO2] in ppb'"
   ]
  },
  {
   "cell_type": "markdown",
   "metadata": {},
   "source": [
    "#### Hypothesis 1: Salt Lake City NO2 over 20 year period (1999 - 2019 in 5 year increments)"
   ]
  },
  {
   "cell_type": "code",
   "execution_count": null,
   "metadata": {
    "code_folding": []
   },
   "outputs": [],
   "source": [
    "# Visualize distributions for SLC\n",
    "years = list(df['year'].unique())\n",
    "\n",
    "ii = 0\n",
    "fig, axes = plt.subplots(1,len(years), figsize=(35, 8))\n",
    "while ii<len(years):\n",
    "    ax = sns.distplot(df[(df['year']==years[ii])&(df['site']=='SLC')][pollutant_no2], ax=axes[ii], color = 'darkslategrey')\n",
    "    ax.axvline(df[(df['year']==years[ii])&(df['site']=='SLC')][pollutant_no2].mean(), color = 'k', linestyle='dashed')\n",
    "    ax.axvline(df[(df['year']==years[ii])&(df['site']=='SLC')][pollutant_no2].median(), color = 'r', linestyle='dashed')\n",
    "    ax.set_title('%s (black = mean, red = median)' % str(years[ii]))\n",
    "    ii +=1\n",
    "\n",
    "df[df['site']=='SLC'].groupby(['year']).agg('count')"
   ]
  },
  {
   "cell_type": "code",
   "execution_count": null,
   "metadata": {
    "code_folding": []
   },
   "outputs": [],
   "source": [
    "# Check normality for SLC distributions\n",
    "[print('{} statistics: {}'.format(ii, stats.describe(df[(df['year']==ii)&(df['site']=='SLC')][pollutant_no2]))) for ii in years];\n",
    "[print('{} Shapiro-Wilk: {}'.format(ii,  stats.shapiro(df[(df['year']==ii)&(df['site']=='SLC')][pollutant_no2]))) for ii in years];"
   ]
  },
  {
   "cell_type": "code",
   "execution_count": null,
   "metadata": {
    "code_folding": []
   },
   "outputs": [],
   "source": [
    "# Kruskal-Wallis and One Way ANOVA (Discuss with Mukesh) for SLC\n",
    "print(stats.kruskal(df[(df['year']==1999)&(df['site']=='SLC')][pollutant_no2],\n",
    "                    df[(df['year']==2004)&(df['site']=='SLC')][pollutant_no2], \n",
    "                    df[(df['year']==2009)&(df['site']=='SLC')][pollutant_no2], \n",
    "                    df[(df['year']==2014)&(df['site']=='SLC')][pollutant_no2],\n",
    "                    df[(df['year']==2018)&(df['site']=='SLC')][pollutant_no2]))\n",
    "\n",
    "print(stats.f_oneway(df[(df['year']==1999)&(df['site']=='SLC')][pollutant_no2],\n",
    "                    df[(df['year']==2004)&(df['site']=='SLC')][pollutant_no2], \n",
    "                    df[(df['year']==2009)&(df['site']=='SLC')][pollutant_no2], \n",
    "                    df[(df['year']==2014)&(df['site']=='SLC')][pollutant_no2],\n",
    "                    df[(df['year']==2018)&(df['site']=='SLC')][pollutant_no2]))\n",
    "\n",
    "[print('{} SLC NO2 median: {}'.format(ii, df[(df['year']==ii)&(df['site']=='SLC')][pollutant_no2].median())) for ii in years];"
   ]
  },
  {
   "cell_type": "code",
   "execution_count": null,
   "metadata": {
    "code_folding": []
   },
   "outputs": [],
   "source": [
    "# Plot NO2 time course for SLC (1999-2019)\n",
    "fig, axes = plt.subplots(1,1,figsize = (20, 10))\n",
    "ax = sns.boxplot(y = pollutant_no2, x = 'year', data = df[df['site']=='SLC'])\n",
    "ax.axhline(100, color = 'k', linestyle='dashed');\n",
    "ax.set_title('Salt Lake City ' + pollutant_no2 + ' for 6 separate years');\n",
    "style = dict(size=15, color='k');\n",
    "ax.text(3, 102, \"NAAQS One Hour Maximum Standard Level\", **style);"
   ]
  },
  {
   "cell_type": "markdown",
   "metadata": {},
   "source": [
    "#### Hypothesis 2: Honolulu NO2 over 20 year period (1999 - 2019 in 5 year increments)"
   ]
  },
  {
   "cell_type": "code",
   "execution_count": null,
   "metadata": {
    "code_folding": []
   },
   "outputs": [],
   "source": [
    "# Visualize distributions for HON\n",
    "years = list(df['year'].unique())\n",
    "\n",
    "ii = 0\n",
    "fig, axes = plt.subplots(1,len(years), figsize=(35, 8))\n",
    "while ii<len(years):\n",
    "    ax = sns.distplot(df[(df['year']==years[ii])&(df['site']=='HON')][pollutant_no2], ax=axes[ii], color = 'darkslategrey')\n",
    "    ax.axvline(df[(df['year']==years[ii])&(df['site']=='HON')][pollutant_no2].mean(), color = 'k', linestyle='dashed')\n",
    "    ax.axvline(df[(df['year']==years[ii])&(df['site']=='HON')][pollutant_no2].median(), color = 'r', linestyle='dashed')\n",
    "    ax.set_title('%s (black = mean, red = median)' % str(years[ii]))\n",
    "    ii +=1\n",
    "\n",
    "df[df['site']=='HON'].groupby(['year']).agg('count')"
   ]
  },
  {
   "cell_type": "code",
   "execution_count": null,
   "metadata": {
    "code_folding": []
   },
   "outputs": [],
   "source": [
    "# Check normality for HON distributions\n",
    "[print('{} statistics: {}'.format(ii, stats.describe(df[(df['year']==ii)&(df['site']=='HON')][pollutant_no2]))) for ii in years];\n",
    "[print('{} Shapiro-Wilk: {}'.format(ii,  stats.shapiro(df[(df['year']==ii)&(df['site']=='HON')][pollutant_no2]))) for ii in years];"
   ]
  },
  {
   "cell_type": "code",
   "execution_count": null,
   "metadata": {
    "code_folding": [
     6
    ]
   },
   "outputs": [],
   "source": [
    "# Kruskal-Wallis and One Way ANOVA (Discuss with Mukesh) for HON\n",
    "print(stats.kruskal(df[(df['year']==1999)&(df['site']=='HON')][pollutant_no2],\n",
    "                    df[(df['year']==2004)&(df['site']=='HON')][pollutant_no2], \n",
    "                    df[(df['year']==2009)&(df['site']=='HON')][pollutant_no2], \n",
    "                    df[(df['year']==2014)&(df['site']=='HON')][pollutant_no2],\n",
    "                    df[(df['year']==2018)&(df['site']=='HON')][pollutant_no2]))\n",
    "print(stats.f_oneway(df[(df['year']==1999)&(df['site']=='HON')][pollutant_no2],\n",
    "                    df[(df['year']==2004)&(df['site']=='HON')][pollutant_no2], \n",
    "                    df[(df['year']==2009)&(df['site']=='HON')][pollutant_no2], \n",
    "                    df[(df['year']==2014)&(df['site']=='HON')][pollutant_no2],\n",
    "                    df[(df['year']==2018)&(df['site']=='HON')][pollutant_no2]))\n",
    "[print('{} HON NO2 median: {}'.format(ii, df[(df['year']==ii)&(df['site']=='HON')][pollutant_no2].median())) for ii in years];"
   ]
  },
  {
   "cell_type": "code",
   "execution_count": null,
   "metadata": {},
   "outputs": [],
   "source": [
    "# Plot NO2 time course for HON (1999-2019)\n",
    "fig, axes = plt.subplots(1,1,figsize = (20, 10))\n",
    "ax = sns.boxplot(y = pollutant_no2, x = 'year', data = df[df['site']=='HON'])\n",
    "ax.set_title('Honolulu ' + pollutant_no2 + ' for 6 separate years');"
   ]
  },
  {
   "cell_type": "markdown",
   "metadata": {},
   "source": [
    "#### Hypothesis 3: Salt Lake City versus Honolulu NO2 levels over a 20 year period (1999 to 2019 in 5 year increments)"
   ]
  },
  {
   "cell_type": "code",
   "execution_count": null,
   "metadata": {},
   "outputs": [],
   "source": [
    "# Annual statistics to compare SLC versus HON NO2 levels\n",
    "[print('{} SLC v HON statistics: {}'.format(ii, stats.kruskal(df[(df['year']==ii)&(df['site']=='SLC')][pollutant_no2], df[(df['year']==ii)&(df['site']=='HON')][pollutant_no2]))) for ii in years];"
   ]
  },
  {
   "cell_type": "code",
   "execution_count": null,
   "metadata": {
    "code_folding": []
   },
   "outputs": [],
   "source": [
    "# Plot SLC and HON levels for all years\n",
    "fig, axes = plt.subplots(1,1,figsize = (20, 10))\n",
    "ax = sns.boxplot(y = pollutant_no2, x = 'site', data = df, hue = 'year')\n",
    "ax.axhline(100, color = 'k', linestyle='dashed');\n",
    "ax.set_title('Salt Lake City and Honolulu ' + pollutant_no2 + ' for 6 separate years');\n",
    "style = dict(size=15, color='k');\n",
    "ax.text(0.75, 102, \"NAAQS One Hour Maximum Standard Level\", **style);"
   ]
  },
  {
   "cell_type": "markdown",
   "metadata": {},
   "source": [
    "#### Hypothesis 4: Salt Lake City NO2 analyzed by season over one year period (Autumn 2018 - Autumn 2019)"
   ]
  },
  {
   "cell_type": "code",
   "execution_count": null,
   "metadata": {
    "code_folding": []
   },
   "outputs": [],
   "source": [
    "# Seasonal effects: first build a subset of data spanning autumn 2018 to autumn 2019 from master data frame\n",
    "df_autumn18 = pd.DataFrame(df.loc[df['Date'].between('2018-09-01','2018-11-30')])\n",
    "df_winter18 = pd.DataFrame(df.loc[df['Date'].between('2018-12-01','2019-02-28')])\n",
    "df_spring19 = pd.DataFrame(df.loc[df['Date'].between('2019-03-01','2019-05-31')])\n",
    "df_summer19 = pd.DataFrame(df.loc[df['Date'].between('2019-06-01','2019-08-31')])\n",
    "df_autumn19 = pd.DataFrame(df.loc[df['Date'].between('2019-09-01','2019-11-30')])\n",
    "\n",
    "df_autumn18['season'] = 'autumn 2018'\n",
    "df_winter18['season'] = 'winter 2018'\n",
    "df_spring19['season'] = 'spring 2019'\n",
    "df_summer19['season'] = 'summer 2019'\n",
    "df_autumn19['season'] = 'autumn 2019'\n",
    "\n",
    "df_season = pd.concat([df_autumn18, df_winter18, df_spring19, df_summer19, df_autumn19])"
   ]
  },
  {
   "cell_type": "code",
   "execution_count": null,
   "metadata": {},
   "outputs": [],
   "source": [
    "# Look at seasonal distribution for SLC\n",
    "season_list = list(df_season['season'].unique())\n",
    "\n",
    "ii = 0\n",
    "fig, axes = plt.subplots(1,len(season_list), figsize=(35, 8))\n",
    "while ii<len(season_list):\n",
    "    ax = sns.distplot(df_season[(df_season['season']==season_list[ii])&(df_season['site']=='SLC')][pollutant_no2], ax=axes[ii], color = 'darkslategrey')\n",
    "    ax.axvline(df_season[(df_season['season']==season_list[ii])&(df_season['site']=='SLC')][pollutant_no2].mean(), color = 'k', linestyle='dashed')\n",
    "    ax.axvline(df_season[(df_season['season']==season_list[ii])&(df_season['site']=='SLC')][pollutant_no2].median(), color = 'r', linestyle='dashed')\n",
    "    ax.set_title('%s (black = mean, red = median)' % str(season_list[ii]))\n",
    "    ii +=1\n",
    "\n",
    "df_season[df_season['site']=='SLC'].groupby(['season']).agg('count')"
   ]
  },
  {
   "cell_type": "code",
   "execution_count": null,
   "metadata": {},
   "outputs": [],
   "source": [
    "# Check normality for seasonal SLC distributions\n",
    "[print('{} statistics: {}'.format(ii, stats.describe(df_season[(df_season['season']==ii)&(df_season['site']=='SLC')][pollutant_no2]))) for ii in season_list];\n",
    "[print('{} shapiro-wilk: {}'.format(ii,  stats.shapiro(df_season[(df_season['season']==ii)&(df_season['site']=='SLC')][pollutant_no2]))) for ii in season_list];"
   ]
  },
  {
   "cell_type": "code",
   "execution_count": null,
   "metadata": {},
   "outputs": [],
   "source": [
    "# Seasonal statistics to compare SLC NO2 level throughout the year\n",
    "print(stats.kruskal(df_season[(df_season['season']=='autumn 2018')&(df_season['site']=='SLC')][pollutant_no2],\n",
    "                    df_season[(df_season['season']=='winter 2018')&(df_season['site']=='SLC')][pollutant_no2],\n",
    "                    df_season[(df_season['season']=='spring 2019')&(df_season['site']=='SLC')][pollutant_no2],\n",
    "                    df_season[(df_season['season']=='summer 2019')&(df_season['site']=='SLC')][pollutant_no2],\n",
    "                    df_season[(df_season['season']=='autumn 2019')&(df_season['site']=='SLC')][pollutant_no2]))\n",
    "print(stats.f_oneway(df_season[(df_season['season']=='autumn 2018')&(df_season['site']=='SLC')][pollutant_no2],\n",
    "                     df_season[(df_season['season']=='winter 2018')&(df_season['site']=='SLC')][pollutant_no2],\n",
    "                     df_season[(df_season['season']=='spring 2019')&(df_season['site']=='SLC')][pollutant_no2],\n",
    "                     df_season[(df_season['season']=='summer 2019')&(df_season['site']=='SLC')][pollutant_no2],\n",
    "                     df_season[(df_season['season']=='autumn 2019')&(df_season['site']=='SLC')][pollutant_no2]))\n",
    "[print('{} SLC seasonal NO2 median: {}'.format(ii, df_season[(df_season['season']==ii)&(df_season['site']=='SLC')][pollutant_no2].median())) for ii in season_list];"
   ]
  },
  {
   "cell_type": "markdown",
   "metadata": {},
   "source": [
    "#### Hypothesis 5: Honolulu NO2 analyzed by season over one year period (Autumn 2018 - Autumn 2019)"
   ]
  },
  {
   "cell_type": "code",
   "execution_count": null,
   "metadata": {},
   "outputs": [],
   "source": [
    "# Look at seasonal distribution for HON\n",
    "season_list = list(df_season['season'].unique())\n",
    "\n",
    "ii = 0\n",
    "fig, axes = plt.subplots(1,len(season_list), figsize=(35, 8))\n",
    "while ii<len(season_list):\n",
    "    ax = sns.distplot(df_season[(df_season['season']==season_list[ii])&(df_season['site']=='HON')][pollutant_no2], ax=axes[ii], color = 'darkslategrey')\n",
    "    ax.axvline(df_season[(df_season['season']==season_list[ii])&(df_season['site']=='HON')][pollutant_no2].mean(), color = 'k', linestyle='dashed')\n",
    "    ax.axvline(df_season[(df_season['season']==season_list[ii])&(df_season['site']=='HON')][pollutant_no2].median(), color = 'r', linestyle='dashed')\n",
    "    ax.set_title('%s (black = mean, red = median)' % str(season_list[ii]))\n",
    "    ii +=1\n",
    "\n",
    "df_season[df_season['site']=='HON'].groupby(['season']).agg('count')"
   ]
  },
  {
   "cell_type": "code",
   "execution_count": null,
   "metadata": {},
   "outputs": [],
   "source": [
    "# Check normality for seasonal HON distributions\n",
    "[print('{} statistics: {}'.format(ii, stats.describe(df_season[(df_season['season']==ii)&(df_season['site']=='SLC')][pollutant_no2]))) for ii in season_list];\n",
    "[print('{} shapiro-wilk: {}'.format(ii,  stats.shapiro(df_season[(df_season['season']==ii)&(df_season['site']=='SLC')][pollutant_no2]))) for ii in season_list];"
   ]
  },
  {
   "cell_type": "code",
   "execution_count": null,
   "metadata": {},
   "outputs": [],
   "source": [
    "# Seasonal statistics to compare HON NO2 level throughout the year\n",
    "print(stats.kruskal(df_season[(df_season['season']=='autumn 2018')&(df_season['site']=='HON')][pollutant_no2],\n",
    "                    df_season[(df_season['season']=='winter 2018')&(df_season['site']=='HON')][pollutant_no2],\n",
    "                    df_season[(df_season['season']=='spring 2019')&(df_season['site']=='HON')][pollutant_no2],\n",
    "                    df_season[(df_season['season']=='summer 2019')&(df_season['site']=='HON')][pollutant_no2],\n",
    "                    df_season[(df_season['season']=='autumn 2019')&(df_season['site']=='HON')][pollutant_no2]))\n",
    "print(stats.f_oneway(df_season[(df_season['season']=='autumn 2018')&(df_season['site']=='HON')][pollutant_no2],\n",
    "                     df_season[(df_season['season']=='winter 2018')&(df_season['site']=='HON')][pollutant_no2],\n",
    "                     df_season[(df_season['season']=='spring 2019')&(df_season['site']=='HON')][pollutant_no2],\n",
    "                     df_season[(df_season['season']=='summer 2019')&(df_season['site']=='HON')][pollutant_no2],\n",
    "                     df_season[(df_season['season']=='autumn 2019')&(df_season['site']=='HON')][pollutant_no2]))\n",
    "[print('{} SLC seasonal NO2 median: {}'.format(ii, df_season[(df_season['season']==ii)&(df_season['site']=='HON')][pollutant_no2].median())) for ii in season_list];"
   ]
  },
  {
   "cell_type": "code",
   "execution_count": null,
   "metadata": {},
   "outputs": [],
   "source": [
    "fig, axes = plt.subplots(1,1,figsize = (20, 10))\n",
    "ax = sns.boxplot(y = pollutant_no2, x = 'site', data = df_season, hue = 'season')\n",
    "ax.axhline(100, color = 'k', linestyle='dashed');\n",
    "ax.set_title('Salt Lake City and Honolulu ' + pollutant_no2 + ' Autumn 2018 through Autumn 2019');\n",
    "style = dict(size=15, color='k');\n",
    "ax.text(0.75, 102, \"NAAQS One Hour Maximum Standard Level\", **style);"
   ]
  },
  {
   "cell_type": "code",
   "execution_count": null,
   "metadata": {},
   "outputs": [],
   "source": []
  }
 ],
 "metadata": {
  "kernelspec": {
   "display_name": "Python 3",
   "language": "python",
   "name": "python3"
  },
  "language_info": {
   "codemirror_mode": {
    "name": "ipython",
    "version": 3
   },
   "file_extension": ".py",
   "mimetype": "text/x-python",
   "name": "python",
   "nbconvert_exporter": "python",
   "pygments_lexer": "ipython3",
   "version": "3.7.4"
  },
  "toc": {
   "base_numbering": 1,
   "nav_menu": {},
   "number_sections": true,
   "sideBar": true,
   "skip_h1_title": false,
   "title_cell": "Table of Contents",
   "title_sidebar": "Contents",
   "toc_cell": false,
   "toc_position": {},
   "toc_section_display": true,
   "toc_window_display": false
  },
  "varInspector": {
   "cols": {
    "lenName": 16,
    "lenType": 16,
    "lenVar": 40
   },
   "kernels_config": {
    "python": {
     "delete_cmd_postfix": "",
     "delete_cmd_prefix": "del ",
     "library": "var_list.py",
     "varRefreshCmd": "print(var_dic_list())"
    },
    "r": {
     "delete_cmd_postfix": ") ",
     "delete_cmd_prefix": "rm(",
     "library": "var_list.r",
     "varRefreshCmd": "cat(var_dic_list()) "
    }
   },
   "types_to_exclude": [
    "module",
    "function",
    "builtin_function_or_method",
    "instance",
    "_Feature"
   ],
   "window_display": false
  }
 },
 "nbformat": 4,
 "nbformat_minor": 2
}
