{
 "cells": [
  {
   "cell_type": "markdown",
   "metadata": {},
   "source": [
    "# INTRODUCTION<br/>\n",
    "Recent epidemiological studies recently have identified (i) altitude and (ii) specific airborne pollutants as independent risk factors for suicide and/or suicidal behavior. Specifically, nitrogen dioxide **(NO<sub>2</sub>)**, which is formed primarily through the burning of fossil fuels, was found to be associated with an increased odds ratio of 20% in suicide completers.<br/>\n",
    "\n",
    "**Salt Lake City (SLC)**, Utah, is an urban agglomeration situated at approximately 4,500 ft above sea level. It is also noteworthy that SLC recently was identified as the nation's 7th worst air quality. SLC is surrounded by the Oquirrh mountain to the west and the Wastch mountain range to the east, with the two mountain ranges meeting at the south. During the colder fall and winter months an interplay of natural meterological events act to form a layer of warm air, which effectively traps colder air and its pollutants within the SLC valley atmosphere. Hence, due to this inversion effect, SLC's air quality is significantly deterioated during fall and winter.<br/>\n",
    "\n",
    "In contrast, **Honolulu (HON)**, Hawaii, is a similarly sized urban area of residence (HON vs. SLC population: ~300,000 vs 200,000) with an overall air quality that is ranked amongst the nation's best. HON is situated at sea level and thus **does not** experience seasonal inversion effects.<br/>\n",
    "\n"
   ]
  },
  {
   "cell_type": "markdown",
   "metadata": {},
   "source": [
    "The United States (US) Clean Air Act (est. ~1970) requires the US Environment Protection Agency (EPA) to set air quality standards for six common air pollutants, including NO<sub>2</sub>. The National Ambient Air Quality Standard (NAAQS) for NO<sub>2</sub> measures currently is set to a daily one-hour maximum of 100 parts per billion (ppb), and the national average for air NO<sub>2</sub> concentration has decreased substantially over the past couple of decades. The EPA releases outdoor air quality data for several airborn pollutants across the US, including the **daily one-hour maximum** NO<sub>2</sub> measures for SLC and HON.<br/>\n"
   ]
  },
  {
   "cell_type": "markdown",
   "metadata": {},
   "source": [
    "Given the implication of NO<sub>2</sub> in suicidal behavior in at-risk clinical populations, a team of psychiatrists at the University of Utah are keen to investigate the daily one-hour maximum NO<sub>2</sub> levels for SLC and HON over a two-decade timespan, including the years 1999, 2004, 2009, 2014, 2018, and 2019. They are also interested in seasonal effects and the potential increase of NO<sub>2</sub> levels during the inversion months (September through February) within SLC from 2018 to 2019."
   ]
  },
  {
   "cell_type": "markdown",
   "metadata": {},
   "source": [
    "**_Specific research questions include:_**\n",
    "\n",
    "1. Is there a significant decrease in SLC atmospheric NO<sub>2</sub> concentration from 1999 to 2019?\n",
    "2. Is there a significant decrease in HON atmospheric NO<sub>2</sub> concentration from 1999 to 2019?\n",
    "3. Are SLC atmospheric NO<sub>2</sub> concentrations significantly different from correposnding HON measures between 1999 and 2019?\n",
    "4. Is SLC atmospheric NO<sub>2</sub> concentration higher during fall and winter months as compared to spring and summer months? \n",
    "5. Is HON atmospheric NO<sub>2</sub> concentration higher during fall and winter months as compared to spring and summer months? \n",
    "<br/>\n",
    "\n",
    "Data source: <https://www.epa.gov/outdoor-air-quality-data/download-daily-data>"
   ]
  },
  {
   "cell_type": "markdown",
   "metadata": {},
   "source": [
    "# HYPOTHESES<BR/>\n",
    "\n",
    "***_Hypothesis 1_***\n",
    "___\n",
    "**Ho:** there is no significant decrease in SLC atmospheric NO<sub>2</sub> concentrations from 1999 to 2019<br/>\n",
    "\n",
    "**Ha:** there is a significant decrease in SLC atmospheric NO<sub>2</sub> concentrations from 1999 to 2019<br/><br/>\n",
    "\n",
    "\n",
    "***_Hypothesis 2_***\n",
    "___\n",
    "**Ho:** there is no significant decrease in HON atmospheric NO<sub>2</sub> concentrations from 1999 to 2019<br/>\n",
    "\n",
    "**Ha:** there is a significant decrease in HON atmospheric NO<sub>2</sub> concentrations from 1999 to 2019<br/><br/>\n",
    "\n",
    "\n",
    "***_Hypothesis 3_***\n",
    "___\n",
    "**Ho:** there is no significant difference for SLC and HON atmospheric NO<sub>2</sub> concentrations between 1999 and 2019<br/>\n",
    "\n",
    "**Ha:** there is a significant difference for SLC and HON atmospheric NO<sub>2</sub> concentrations between 1999 and 2019<br/><br/>\n",
    "\n",
    "\n",
    "***_Hypothesis 4_***\n",
    "___\n",
    "**Ho:** there is no significant difference in SLC atmospheric NO<sub>2</sub> concentration in fall and winter months compared to spring and summer months<br/>\n",
    "\n",
    "**Ha:** there is a ignificant difference in SLC atmospheric NO<sub>2</sub> concentration in fall and winter months compared to spring and summer months<br/><br/>\n",
    "\n",
    "\n",
    "***_Hypothesis 5_***\n",
    "___\n",
    "**Ho:** there is no significant difference in HON atmospheric NO<sub>2</sub> concentration in fall and winter months compared to spring and summer months<br/>\n",
    "\n",
    "**Ha:** there is a significant difference in HON atmospheric NO<sub>2</sub> concentration in fall and winter months compared to spring and summer months<br/><br/>\n",
    "\n"
   ]
  },
  {
   "cell_type": "markdown",
   "metadata": {},
   "source": [
    "# DATA<BR/>\n",
    "\n",
    "All data were obtained from the publicly-accessible US EPA respository for outdoor data air quality (link to download: <https://www.epa.gov/outdoor-air-quality-data/download-daily-data>), which provides a tool that queries daily air quality summaries for a given **pollutant**, **year**, **geographic US location**, and **monitor site**. For most locations, data can be downloaded from multiple monitor sites. The two monitor sites deemed most representative for urban SLC and urban HON are the **Hawthorne** and **Kapolei** stations, respectively.<br/>\n",
    "\n",
    "Daily one-hour maximum SLC and HON NO<sub>2</sub> data in the form of comma separated value (CSV) files subsequently were individually downloaded for years 1999, 2004, 2009, 2014, 2018, and 2019. The individual CSV files were concatenated into a single dataframe using the Pandas libray (Python 3.0), which enabled the assembly of a master composite CSV file. Two addtional variables were appended to the file that enhanced usability, including 'year' (four digit integer) and 'site' (i.e. 'SLC' for 'Hawthorne', and 'HON' for 'Kapolei'). This resulted in a master CSV file containing 4056 observations and 22 variables. The SLC and HON sites showed a total of 64 days and 260 days of missing data, respectively. The master CSV file used hereon for analyzing daily SLC and HON NO<sub>2</sub> concentrations is available at the following link: <https://raw.githubusercontent.com/aprescot1977/Thinkful/master/no2_master.csv>. \n",
    "___\n",
    "\n",
    "**Dataset information**: The primary variables of interest include:<br/>\n",
    "* Date (expressed as MM/DD/YYYY)\n",
    "* Site ('SLC' or 'HON')\n",
    "* Year (four digit integer)\n",
    "* Daily Max 1-hour NO<sub>2</sub> concentration (units: ppb)\n",
    "\n",
    "\n",
    "\n"
   ]
  },
  {
   "cell_type": "markdown",
   "metadata": {},
   "source": [
    "# METHODS<BR/>\n",
    "\n",
    "**Hypothesis 1 and 2** will be tested using the main dataframe (i.e. from 'no2_master.csv'). The normaliy of the atmospheric NO<sub>2</sub>  concentration distributions for years 1999, 2004, 2009, 2014, 2018, and 2019, will be evaluated using histogram analysis, as well as measures of skewness and kurtosis. In addition, Shapiro-Wilk tests will likely be perfomed. The 'site' variable will be used to differentiate the 'SLC' from 'HON' distributions and for the resulting within-site statistical analysis. If the SLC and HON atmospheric NO<sub>2</sub>  concentration distributions are normally distributed, a one-way ANOVA will be performed, otherwise the data will be treated using non-parametric tests.\n",
    "___\n",
    "**Hypothesis 3** also will be tested using the main dataframe (i.e. from 'no2_master.csv'). Normality for the 6 discrete annual distributions will already have been conducted as detailed above. However, the annual SLC versus HON atmospheric NO<sub>2</sub>  concentrations will be statistically compared on a year-by-year basis. The use of parametric verus non-parametric statistical analysis will be dependent on normality of SLC and HON NO<sub>2</sub> distributions.\n",
    "___\n",
    "**Hypothesis 4 and 5** will be tested by creating a separate dataframe. The 'Date' column of the main dataframe (i.e. from 'no2_master.csv') will be used to create a separate dataframe depending on whether the days fall within fall 2018, winter 2018, spring 2019, summer 2019, and fall 2019. These are defined as below:<br/><br/>\n",
    "\n",
    "\n",
    "* 2018-09-01 to 2018-11-30: **Fall 2018:**   \n",
    "* 2018-12-01 to 2019-02-28: **Winter 2018:** \n",
    "* 2019-03-01 to 2019-05-31: **Spring 2019:** \n",
    "* 2019-06-01 to 2019-08-31: **Summer 2019:** \n",
    "* 2019-09-01 to 2019-11-30: **Fall 2018:**<br/><br/>\n",
    "\n",
    "These specific dates will be accessed using the Pandas 'between' method, and a new column will be generated that is allocated a string showing the relevant 'season' and 'year'. The normality of the 5 new seasonal distrubutions (each containing approximately 90 observations) will be tested for both SLC and HON using the methods outlined above (see Hypothesis 1 and 2). The seasonal variation of SLC and HON air NO<sub>2</sub> concentration will be tested using parametric or non-parametric statistical analyis, depending on the outcome of the distribution analysis.   "
   ]
  },
  {
   "cell_type": "markdown",
   "metadata": {},
   "source": [
    "# AUDIENCE\n",
    "\n",
    "\n",
    "    Proposal clearly outlines the user or stakeholder that this research will be valuable for\n",
    "    Proposal identifies why audience will benefit from research’s findings\n",
    "    \n",
    "    Andy - Need to add audience:\n",
    "    (1) Public Health Authorities\n",
    "    (2) Physicians/psychiatrists/social workers\n",
    "    (3) General public, patients, families\n",
    "    (4) Preventative measures for at-risk populations\n",
    "    \n",
    "    Also - the Dunn Bonferonni might be a cool addition\n",
    "    \n",
    "    Also need to add methods for concatenating datasets described above.\n",
    "    That will need additon of individual datasets to GitHub, as well as preliminary distributions before uploading proposal.\n"
   ]
  }
 ],
 "metadata": {
  "hide_input": false,
  "kernelspec": {
   "display_name": "Python 3",
   "language": "python",
   "name": "python3"
  },
  "language_info": {
   "codemirror_mode": {
    "name": "ipython",
    "version": 3
   },
   "file_extension": ".py",
   "mimetype": "text/x-python",
   "name": "python",
   "nbconvert_exporter": "python",
   "pygments_lexer": "ipython3",
   "version": "3.7.4"
  },
  "toc": {
   "base_numbering": 1,
   "nav_menu": {},
   "number_sections": true,
   "sideBar": true,
   "skip_h1_title": false,
   "title_cell": "Table of Contents",
   "title_sidebar": "Contents",
   "toc_cell": false,
   "toc_position": {},
   "toc_section_display": true,
   "toc_window_display": false
  },
  "varInspector": {
   "cols": {
    "lenName": 16,
    "lenType": 16,
    "lenVar": 40
   },
   "kernels_config": {
    "python": {
     "delete_cmd_postfix": "",
     "delete_cmd_prefix": "del ",
     "library": "var_list.py",
     "varRefreshCmd": "print(var_dic_list())"
    },
    "r": {
     "delete_cmd_postfix": ") ",
     "delete_cmd_prefix": "rm(",
     "library": "var_list.r",
     "varRefreshCmd": "cat(var_dic_list()) "
    }
   },
   "types_to_exclude": [
    "module",
    "function",
    "builtin_function_or_method",
    "instance",
    "_Feature"
   ],
   "window_display": false
  }
 },
 "nbformat": 4,
 "nbformat_minor": 2
}
